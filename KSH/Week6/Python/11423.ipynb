{
 "metadata": {
  "language_info": {
   "codemirror_mode": {
    "name": "ipython",
    "version": 3
   },
   "file_extension": ".py",
   "mimetype": "text/x-python",
   "name": "python",
   "nbconvert_exporter": "python",
   "pygments_lexer": "ipython3",
   "version": 3
  },
  "orig_nbformat": 2,
  "kernelspec": {
   "name": "python_defaultSpec_1596548759604",
   "display_name": "Python 3.7.7 64-bit ('py37_ten20': conda)"
  }
 },
 "nbformat": 4,
 "nbformat_minor": 2,
 "cells": [
  {
   "cell_type": "code",
   "execution_count": 7,
   "metadata": {
    "tags": []
   },
   "outputs": [
    {
     "output_type": "stream",
     "name": "stdout",
     "text": "2 20\n8\n"
    }
   ],
   "source": [
    "a,b = map(int, input().split())\n",
    "# def checkprime(a):\n",
    "cnt=0\n",
    "for i in range(a,b):\n",
    "    if is_prime(i):\n",
    "        cnt+=1\n",
    "print(cnt)"
   ]
  },
  {
   "cell_type": "code",
   "execution_count": 6,
   "metadata": {},
   "outputs": [],
   "source": [
    "def is_prime(n: int) -> bool: \n",
    "    if n < 2: return False \n",
    "    if n in (2, 3): return True \n",
    "    if n % 2 == 0 or n % 3 == 0: return False \n",
    "    if n < 9: return True \n",
    "    k, l = 5, n**0.5 \n",
    "    while k <= l: \n",
    "        if n % k == 0 or n % (k+2) == 0: \n",
    "            return False \n",
    "        k += 6 \n",
    "    return True\n",
    "\n"
   ]
  },
  {
   "cell_type": "code",
   "execution_count": 2,
   "metadata": {
    "tags": []
   },
   "outputs": [
    {
     "output_type": "stream",
     "name": "stdout",
     "text": "8\n"
    }
   ],
   "source": []
  },
  {
   "cell_type": "code",
   "execution_count": null,
   "metadata": {},
   "outputs": [],
   "source": []
  }
 ]
}