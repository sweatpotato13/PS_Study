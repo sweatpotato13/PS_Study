{
 "metadata": {
  "language_info": {
   "codemirror_mode": {
    "name": "ipython",
    "version": 3
   },
   "file_extension": ".py",
   "mimetype": "text/x-python",
   "name": "python",
   "nbconvert_exporter": "python",
   "pygments_lexer": "ipython3",
   "version": 3
  },
  "orig_nbformat": 2,
  "kernelspec": {
   "name": "python_defaultSpec_1596549327821",
   "display_name": "Python 3.7.7 64-bit ('py37_ten20': conda)"
  }
 },
 "nbformat": 4,
 "nbformat_minor": 2,
 "cells": [
  {
   "cell_type": "code",
   "execution_count": 6,
   "metadata": {
    "tags": []
   },
   "outputs": [
    {
     "output_type": "stream",
     "name": "stdout",
     "text": "no\n"
    }
   ],
   "source": [
    "def is_prime(n: int) -> bool: \n",
    "    if n < 2: return False \n",
    "    if n in (2, 3): return True \n",
    "    if n % 2 == 0 or n % 3 == 0: return False \n",
    "    if n < 9: return True \n",
    "    k, l = 5, n**0.5 \n",
    "    while k <= l: \n",
    "        if n % k == 0 or n % (k+2) == 0: \n",
    "            return False \n",
    "        k += 6 \n",
    "    return True\n",
    "\n",
    "t = input()\n",
    "if is_prime(int(t)):\n",
    "    if '3' in t or '4' in t or '7' in t:\n",
    "        print('no')\n",
    "    else:\n",
    "        t = t[::-1]\n",
    "        t = t.replace('6','y')\n",
    "        t = t.replace('9','6')\n",
    "        t = t.replace('y','9')\n",
    "        t = int(t)\n",
    "        if is_prime(t):\n",
    "            print('yes')\n",
    "        else:\n",
    "            print('no')\n",
    "else:\n",
    "    print('no')\n",
    "# print(checkprime(t))"
   ]
  },
  {
   "cell_type": "code",
   "execution_count": 4,
   "metadata": {},
   "outputs": [],
   "source": []
  },
  {
   "cell_type": "code",
   "execution_count": null,
   "metadata": {},
   "outputs": [],
   "source": []
  }
 ]
}