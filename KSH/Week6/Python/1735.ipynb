{
 "metadata": {
  "language_info": {
   "codemirror_mode": {
    "name": "ipython",
    "version": 3
   },
   "file_extension": ".py",
   "mimetype": "text/x-python",
   "name": "python",
   "nbconvert_exporter": "python",
   "pygments_lexer": "ipython3",
   "version": 3
  },
  "orig_nbformat": 2,
  "kernelspec": {
   "name": "python_defaultSpec_1596464737412",
   "display_name": "Python 3.7.7 64-bit ('py37_ten20': conda)"
  }
 },
 "nbformat": 4,
 "nbformat_minor": 2,
 "cells": [
  {
   "cell_type": "code",
   "execution_count": 4,
   "metadata": {
    "tags": []
   },
   "outputs": [
    {
     "output_type": "stream",
     "name": "stdout",
     "text": "70\n3\n35\n"
    }
   ],
   "source": [
    "def gcd(x,y): #최대공약수, 유클리드 호제\n",
    "    mod = x % y\n",
    "    while mod >0:\n",
    "        x = y\n",
    "        y = mod\n",
    "        mod = x % y\n",
    "    return y    \n",
    "\n",
    "A, B = map(int, input().split())\n",
    "C, D = map(int, input().split())\n",
    "N = gcd(A*D + C*B, B*D) \n",
    "print((A*D + C*B)//N, B*D//N)"
   ]
  },
  {
   "cell_type": "code",
   "execution_count": null,
   "metadata": {},
   "outputs": [],
   "source": []
  }
 ]
}