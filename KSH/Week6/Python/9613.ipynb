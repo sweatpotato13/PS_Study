{
 "metadata": {
  "language_info": {
   "codemirror_mode": {
    "name": "ipython",
    "version": 3
   },
   "file_extension": ".py",
   "mimetype": "text/x-python",
   "name": "python",
   "nbconvert_exporter": "python",
   "pygments_lexer": "ipython3",
   "version": 3
  },
  "orig_nbformat": 2
 },
 "nbformat": 4,
 "nbformat_minor": 2,
 "cells": [
  {
   "cell_type": "code",
   "execution_count": null,
   "metadata": {},
   "outputs": [],
   "source": [
    "import itertools\n",
    "def gcd(a, b):\n",
    "    return gcd(b, a % b) if b else a\n",
    "\n",
    "t = int(input())\n",
    "for i in range(t):\n",
    "    num_list = list(map(int, input().split()))\n",
    "    num_list = num_list[1:]\n",
    "    ans = 0\n",
    "    for a, b in itertools.combinations(num_list, 2):\n",
    "        ans += gcd(a, b)\n",
    "    print(ans)"
   ]
  }
 ]
}