{
 "metadata": {
  "language_info": {
   "codemirror_mode": {
    "name": "ipython",
    "version": 3
   },
   "file_extension": ".py",
   "mimetype": "text/x-python",
   "name": "python",
   "nbconvert_exporter": "python",
   "pygments_lexer": "ipython3",
   "version": "3.7.7-final"
  },
  "orig_nbformat": 2,
  "kernelspec": {
   "name": "python_defaultSpec_1596623528970",
   "display_name": "Python 3.7.7 64-bit ('PS_Study': conda)"
  }
 },
 "nbformat": 4,
 "nbformat_minor": 2,
 "cells": [
  {
   "cell_type": "code",
   "execution_count": 16,
   "metadata": {
    "tags": []
   },
   "outputs": [
    {
     "output_type": "stream",
     "name": "stdout",
     "text": "64512\n"
    }
   ],
   "source": [
    "a = int(input())\n",
    "ans=1\n",
    "for i in range(1,a+1):\n",
    "    ans*=i\n",
    "    while ans%10==0:        \n",
    "        ans//=10\n",
    "    ans%=1000000000000000000\n",
    "ans%=100000\n",
    "ans=str(ans).zfill(5)\n",
    "print(ans)"
   ]
  },
  {
   "cell_type": "code",
   "execution_count": null,
   "metadata": {},
   "outputs": [],
   "source": []
  }
 ]
}