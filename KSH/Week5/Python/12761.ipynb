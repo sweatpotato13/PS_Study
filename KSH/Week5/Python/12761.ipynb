{
 "metadata": {
  "language_info": {
   "codemirror_mode": {
    "name": "ipython",
    "version": 3
   },
   "file_extension": ".py",
   "mimetype": "text/x-python",
   "name": "python",
   "nbconvert_exporter": "python",
   "pygments_lexer": "ipython3",
   "version": 3
  },
  "orig_nbformat": 2,
  "kernelspec": {
   "name": "python_defaultSpec_1595855779955",
   "display_name": "Python 3.7.7 64-bit ('py37_ten20': conda)"
  }
 },
 "nbformat": 4,
 "nbformat_minor": 2,
 "cells": [
  {
   "cell_type": "code",
   "execution_count": 1,
   "metadata": {
    "tags": []
   },
   "outputs": [
    {
     "output_type": "stream",
     "name": "stdout",
     "text": "4\n"
    }
   ],
   "source": [
    "from collections import deque\n",
    "\n",
    "def bfs():\n",
    "\n",
    "    q = deque()\n",
    "\n",
    "    q.append(N)\n",
    "\n",
    "    while q:\n",
    "        num = q.popleft()\n",
    "        if num == M:\n",
    "            print(visited[num])\n",
    "\n",
    "        if 0 <= num - 1 and not visited[num - 1]:\n",
    "            visited[num - 1] = visited[num] + 1\n",
    "            q.append(num - 1)\n",
    "        if 0 <= num - A and not visited[num - A]:\n",
    "            visited[num - A] = visited[num] + 1\n",
    "            q.append(num - A)\n",
    "        if 0 <= num - B and not visited[num - B]:\n",
    "            visited[num - B] = visited[num] + 1\n",
    "            q.append(num - B)\n",
    "        if num + 1 <= 100000 and not visited[num + 1]:\n",
    "            visited[num + 1] = visited[num] + 1\n",
    "            q.append(num + 1)\n",
    "        if num + A <= 100000 and not visited[num + A]:\n",
    "            visited[num + A] = visited[num] + 1\n",
    "            q.append(num + A)\n",
    "        if num + B <= 100000 and not visited[num + B]:\n",
    "            visited[num + B] = visited[num] + 1\n",
    "            q.append(num + B)\n",
    "        if num * A <= 100000 and not visited[num * A]:\n",
    "            visited[num * A] = visited[num] + 1\n",
    "            q.append(num * A)\n",
    "        if num * B <= 100000 and not visited[num * B]:\n",
    "            visited[num * B] = visited[num] + 1\n",
    "            q.append(num * B)\n",
    "\n",
    "\n",
    "if __name__ == \"__main__\":\n",
    "    A, B, N, M = map(int ,input().split())\n",
    "    visited = [0 for i in range(100001)]\n",
    "\n",
    "    bfs()"
   ]
  },
  {
   "cell_type": "code",
   "execution_count": null,
   "metadata": {},
   "outputs": [],
   "source": []
  }
 ]
}