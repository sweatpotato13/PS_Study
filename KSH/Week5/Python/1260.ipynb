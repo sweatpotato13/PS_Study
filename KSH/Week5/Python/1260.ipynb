{
 "metadata": {
  "language_info": {
   "codemirror_mode": {
    "name": "ipython",
    "version": 3
   },
   "file_extension": ".py",
   "mimetype": "text/x-python",
   "name": "python",
   "nbconvert_exporter": "python",
   "pygments_lexer": "ipython3",
   "version": 3
  },
  "orig_nbformat": 2,
  "kernelspec": {
   "name": "python_defaultSpec_1595763522064",
   "display_name": "Python 3.7.7 64-bit ('py37_ten20': conda)"
  }
 },
 "nbformat": 4,
 "nbformat_minor": 2,
 "cells": [
  {
   "cell_type": "code",
   "execution_count": 1,
   "metadata": {},
   "outputs": [],
   "source": [
    "import tensorflow as tf"
   ]
  },
  {
   "cell_type": "code",
   "execution_count": 1,
   "metadata": {
    "tags": []
   },
   "outputs": [
    {
     "output_type": "stream",
     "name": "stdout",
     "text": "1 2 4 3\n1 2 3 4\n"
    }
   ],
   "source": [
    "N, M, V = map(int, input().split())\n",
    "matrix = [[0] * (N + 1) for _ in range(N + 1)]\n",
    "for _ in range(M):\n",
    "    link = list(map(int, input().split()))\n",
    "    matrix[link[0]][link[1]] = 1\n",
    "    matrix[link[1]][link[0]] = 1\n",
    "\n",
    "\n",
    "def dfs(current_node, row, foot_prints):\n",
    "    foot_prints += [current_node]\n",
    "    for search_node in range(len(row[current_node])):\n",
    "        if row[current_node][search_node] and search_node not in foot_prints:\n",
    "            foot_prints = dfs(search_node, row, foot_prints)\n",
    "    return foot_prints\n",
    "\n",
    "\n",
    "def bfs(start):\n",
    "    queue = [start]\n",
    "    foot_prints = [start]\n",
    "    while queue:\n",
    "        current_node = queue.pop(0)\n",
    "        for search_node in range(len(matrix[current_node])):\n",
    "            if matrix[current_node][search_node] and search_node not in foot_prints:\n",
    "                foot_prints += [search_node]\n",
    "                queue += [search_node]\n",
    "    return foot_prints\n",
    "\n",
    "\n",
    "print(*dfs(V, matrix, []))\n",
    "print(*bfs(V))"
   ]
  },
  {
   "cell_type": "code",
   "execution_count": null,
   "metadata": {},
   "outputs": [],
   "source": []
  }
 ]
}