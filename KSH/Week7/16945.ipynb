{
 "metadata": {
  "language_info": {
   "codemirror_mode": {
    "name": "ipython",
    "version": 3
   },
   "file_extension": ".py",
   "mimetype": "text/x-python",
   "name": "python",
   "nbconvert_exporter": "python",
   "pygments_lexer": "ipython3",
   "version": "3.7.7-final"
  },
  "orig_nbformat": 2,
  "kernelspec": {
   "name": "python_defaultSpec_1597288928184",
   "display_name": "Python 3.7.7 64-bit ('shyun': conda)"
  }
 },
 "nbformat": 4,
 "nbformat_minor": 2,
 "cells": [
  {
   "cell_type": "code",
   "execution_count": 2,
   "metadata": {
    "tags": []
   },
   "outputs": [
    {
     "output_type": "stream",
     "name": "stdout",
     "text": "1\n"
    }
   ],
   "source": [
    "pool=[1,2,3,4,5,6,7,8,9]\n",
    "marray = [[[2,7,6],[9,5,1],[4,3,8]],[[6,1,8],[7,5,3],[2,9,4]],[[8,3,4],[1,5,9],[6,7,2]],[[4,9,2],[3,5,7],[8,1,6]]]\n",
    "\n",
    "a = [[],[],[]]\n",
    "for i in range(0,1):\n",
    "    for j in range(0,3):    \n",
    "        a[j]=list(map(int, input().split()))\n",
    "ans=10000\n",
    "for k in range(0,4):\n",
    "    diff=0\n",
    "    for i in range(0,3):\n",
    "        for j in range(0,3):\n",
    "            diff += abs(marray[k][i][j]-a[i][j])\n",
    "    ans = min(ans, diff)\n",
    "print(ans)"
   ]
  },
  {
   "cell_type": "code",
   "execution_count": 2,
   "metadata": {
    "tags": []
   },
   "outputs": [
    {
     "output_type": "stream",
     "name": "stdout",
     "text": "[(2, 7, 6, 9, 5, 1, 4, 3, 8), (2, 9, 4, 7, 5, 3, 6, 1, 8), (4, 3, 8, 9, 5, 1, 2, 7, 6), (4, 9, 2, 3, 5, 7, 8, 1, 6), (6, 1, 8, 7, 5, 3, 2, 9, 4), (6, 7, 2, 1, 5, 9, 8, 3, 4), (8, 1, 6, 3, 5, 7, 4, 9, 2), (8, 3, 4, 1, 5, 9, 6, 7, 2)]\n"
    }
   ],
   "source": [
    "import itertools\n",
    "\n",
    "pool=[1,2,3,4,5,6,7,8,9]\n",
    "pool2 = list(itertools.permutations(pool))\n",
    "magic=[]\n",
    "for i in pool2:\n",
    "    total = sum(i[0:3])\n",
    "    if sum(i[3:6]) != total:\n",
    "        continue\n",
    "    if sum(i[6:9]) != total:\n",
    "        continue\n",
    "    if i[0]+i[3]+i[6] !=total:\n",
    "        continue\n",
    "    if i[1]+i[4]+i[7] !=total:\n",
    "        continue\n",
    "    if i[2]+i[5]+i[8] !=total:\n",
    "        continue\n",
    "    if i[0]+i[4]+i[8] !=total:\n",
    "        continue\n",
    "    if i[2]+i[4]+i[6] !=total:\n",
    "        continue\n",
    "    magic.append(i)\n",
    "print(magic)"
   ]
  },
  {
   "cell_type": "code",
   "execution_count": 5,
   "metadata": {},
   "outputs": [],
   "source": [
    "a=[]\n",
    "for j in range(0,3):    \n",
    "    tmp=list(map(int, input().split()))\n",
    "    a.extend(tmp)"
   ]
  },
  {
   "cell_type": "code",
   "execution_count": 6,
   "metadata": {},
   "outputs": [
    {
     "output_type": "execute_result",
     "data": {
      "text/plain": "[4, 5, 6, 4, 3, 2, 3, 3, 3]"
     },
     "metadata": {},
     "execution_count": 6
    }
   ],
   "source": [
    "a"
   ]
  },
  {
   "cell_type": "code",
   "execution_count": 7,
   "metadata": {
    "tags": []
   },
   "outputs": [
    {
     "output_type": "stream",
     "name": "stdout",
     "text": "18\n"
    }
   ],
   "source": [
    "ans=9999999999999999999999\n",
    "for i in range(len(magic)):\n",
    "    diff=0\n",
    "    for j in range(9):\n",
    "        diff+=abs(magic[i][j]-a[j])\n",
    "    ans=min(ans,diff)\n",
    "print(ans)"
   ]
  },
  {
   "cell_type": "code",
   "execution_count": null,
   "metadata": {},
   "outputs": [],
   "source": []
  }
 ]
}