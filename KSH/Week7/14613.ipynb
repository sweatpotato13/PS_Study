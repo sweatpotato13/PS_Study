{
 "metadata": {
  "language_info": {
   "codemirror_mode": {
    "name": "ipython",
    "version": 3
   },
   "file_extension": ".py",
   "mimetype": "text/x-python",
   "name": "python",
   "nbconvert_exporter": "python",
   "pygments_lexer": "ipython3",
   "version": 3
  },
  "orig_nbformat": 2,
  "kernelspec": {
   "name": "python_defaultSpec_1597215161791",
   "display_name": "Python 3.7.6 64-bit ('base': conda)"
  }
 },
 "nbformat": 4,
 "nbformat_minor": 2,
 "cells": [
  {
   "cell_type": "code",
   "execution_count": 1,
   "metadata": {},
   "outputs": [],
   "source": [
    "W,L,D = map(float, input().split())"
   ]
  },
  {
   "cell_type": "code",
   "execution_count": 3,
   "metadata": {},
   "outputs": [],
   "source": [
    "a = [[0 for j in range(3001)] for i in range(21)]"
   ]
  },
  {
   "cell_type": "code",
   "execution_count": 4,
   "metadata": {},
   "outputs": [],
   "source": [
    "a[0][2000]=1"
   ]
  },
  {
   "cell_type": "code",
   "execution_count": 5,
   "metadata": {},
   "outputs": [],
   "source": [
    "for i in range(1,21):\n",
    "    for j in range(1000,3001):\n",
    "        if a[i-1][j]==0:\n",
    "            continue\n",
    "        a[i][j - 50] += a[i - 1][j] * L;\n",
    "        a[i][j + 50] += a[i - 1][j] * W;\n",
    "        a[i][j] += a[i - 1][j] * D;"
   ]
  },
  {
   "cell_type": "code",
   "execution_count": 6,
   "metadata": {},
   "outputs": [],
   "source": [
    "b=s=g=p=d=0.0"
   ]
  },
  {
   "cell_type": "code",
   "execution_count": null,
   "metadata": {},
   "outputs": [],
   "source": [
    "for i in range(1000,3001):\n",
    " \n",
    "        if (1000 <= i && i <= 1499) b += dp[20][i];\n",
    "        else if (1500 <= i && i <= 1999) s += dp[20][i];\n",
    "        else if (2000 <= i && i <= 2499) g += dp[20][i];\n",
    "        else if (2500 <= i && i <= 2999) p += dp[20][i];\n",
    "        else d += dp[20][i];\n",
    "    "
   ]
  }
 ]
}