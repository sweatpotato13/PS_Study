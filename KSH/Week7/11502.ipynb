{
 "metadata": {
  "language_info": {
   "codemirror_mode": {
    "name": "ipython",
    "version": 3
   },
   "file_extension": ".py",
   "mimetype": "text/x-python",
   "name": "python",
   "nbconvert_exporter": "python",
   "pygments_lexer": "ipython3",
   "version": 3
  },
  "orig_nbformat": 2,
  "kernelspec": {
   "name": "python_defaultSpec_1597193846946",
   "display_name": "Python 3.7.7 64-bit ('shyun': conda)"
  }
 },
 "nbformat": 4,
 "nbformat_minor": 2,
 "cells": [
  {
   "cell_type": "code",
   "execution_count": 1,
   "metadata": {
    "tags": []
   },
   "outputs": [
    {
     "output_type": "stream",
     "name": "stdout",
     "text": "2 2 3\n2 2 7\n3 3 19\n"
    }
   ],
   "source": [
    "def printSum(pL, s):\n",
    "    for n1 in pL:\n",
    "        for n2 in pL:\n",
    "            for n3 in pL:\n",
    "                if n1 + n2 + n3 == s:\n",
    "                    print(n1, n2, n3)\n",
    "                    return\n",
    "    print(0)\n",
    " \n",
    " \n",
    "def findPrime(num):\n",
    "    data = list(range(2, num + 1))\n",
    "    result = []\n",
    " \n",
    "    while len(data) != 0:\n",
    "        m = data[0]\n",
    "        result.append(m)\n",
    "        cnt = 0\n",
    "        while cnt < len(data):\n",
    "            if data[cnt] % m == 0:\n",
    "                data.pop(cnt)\n",
    "                cnt -= 1\n",
    "            cnt += 1\n",
    " \n",
    "    return result\n",
    " \n",
    " \n",
    "T = int(input())\n",
    "N = []\n",
    " \n",
    "for i in range(T):\n",
    "    N.append(int(input()))\n",
    " \n",
    "for n in N:\n",
    "    printSum(findPrime(n), n)"
   ]
  },
  {
   "cell_type": "code",
   "execution_count": null,
   "metadata": {},
   "outputs": [],
   "source": []
  }
 ]
}