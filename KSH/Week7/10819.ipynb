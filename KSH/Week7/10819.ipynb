{
 "metadata": {
  "language_info": {
   "codemirror_mode": {
    "name": "ipython",
    "version": 3
   },
   "file_extension": ".py",
   "mimetype": "text/x-python",
   "name": "python",
   "nbconvert_exporter": "python",
   "pygments_lexer": "ipython3",
   "version": "3.7.7-final"
  },
  "orig_nbformat": 2,
  "kernelspec": {
   "name": "python_defaultSpec_1597288753227",
   "display_name": "Python 3.7.6 64-bit ('ezcare14': virtualenv)"
  }
 },
 "nbformat": 4,
 "nbformat_minor": 2,
 "cells": [
  {
   "cell_type": "code",
   "execution_count": 3,
   "metadata": {
    "tags": []
   },
   "outputs": [
    {
     "output_type": "stream",
     "name": "stdout",
     "text": "62\n"
    }
   ],
   "source": [
    "import itertools\n",
    "cnt=int(input())\n",
    "pool = list(map(int, input().split()))\n",
    "pool.sort()\n",
    "pool2 = list(itertools.permutations(pool))\n",
    "ans=0\n",
    "for i in pool2:\n",
    "    diff=0\n",
    "    for j in range(1,cnt):\n",
    "        diff+=abs(i[j]-i[j-1])\n",
    "    ans=max(ans,diff)\n",
    "\n",
    "print(ans)"
   ]
  },
  {
   "cell_type": "code",
   "execution_count": null,
   "metadata": {},
   "outputs": [],
   "source": []
  }
 ]
}