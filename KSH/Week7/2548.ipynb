{
 "metadata": {
  "language_info": {
   "codemirror_mode": {
    "name": "ipython",
    "version": 3
   },
   "file_extension": ".py",
   "mimetype": "text/x-python",
   "name": "python",
   "nbconvert_exporter": "python",
   "pygments_lexer": "ipython3",
   "version": 3
  },
  "orig_nbformat": 2,
  "kernelspec": {
   "name": "python_defaultSpec_1597215161793",
   "display_name": "Python 3.7.6 64-bit ('base': conda)"
  }
 },
 "nbformat": 4,
 "nbformat_minor": 2,
 "cells": [
  {
   "cell_type": "code",
   "execution_count": 2,
   "metadata": {
    "tags": []
   },
   "outputs": [
    {
     "output_type": "stream",
     "name": "stdout",
     "text": "3\n"
    }
   ],
   "source": [
    "cnt=int(input())\n",
    "num_list = list(map(int, input().split()))\n",
    "\n",
    "ans=100000000000000000\n",
    "wt=200000\n",
    "for i in num_list:\n",
    "    diff=0\n",
    "    for j in num_list:\n",
    "        diff+=abs(j-i)\n",
    "    if diff<=ans:\n",
    "        wt=min(wt,i)\n",
    "    ans=min(ans,diff)\n",
    "print(wt)"
   ]
  },
  {
   "cell_type": "code",
   "execution_count": null,
   "metadata": {},
   "outputs": [],
   "source": []
  }
 ]
}