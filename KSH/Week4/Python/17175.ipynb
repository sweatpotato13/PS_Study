{
 "metadata": {
  "language_info": {
   "codemirror_mode": {
    "name": "ipython",
    "version": 3
   },
   "file_extension": ".py",
   "mimetype": "text/x-python",
   "name": "python",
   "nbconvert_exporter": "python",
   "pygments_lexer": "ipython3",
   "version": 3
  },
  "orig_nbformat": 2,
  "kernelspec": {
   "name": "python_defaultSpec_1595142941066",
   "display_name": "Python 3.7.7 64-bit ('py37_ten20': conda)"
  }
 },
 "nbformat": 4,
 "nbformat_minor": 2,
 "cells": [
  {
   "cell_type": "code",
   "execution_count": 12,
   "metadata": {
    "tags": []
   },
   "outputs": [
    {
     "output_type": "stream",
     "name": "stdout",
     "text": "5\n"
    }
   ],
   "source": [
    "cnt=0\n",
    "def fibonacci(n): #// 호출\n",
    "    global cnt\n",
    "    cnt+=1\n",
    "    if n < 2:\n",
    "        return n\n",
    "    return fibonacci(n-2) + fibonacci(n-1)\n",
    "\n",
    "n = int(input())\n",
    "fibonacci(n)\n",
    "print(cnt%1000000007)\n",
    "\n"
   ]
  },
  {
   "cell_type": "code",
   "execution_count": 19,
   "metadata": {
    "tags": []
   },
   "outputs": [
    {
     "output_type": "stream",
     "name": "stdout",
     "text": "3\n"
    }
   ],
   "source": [
    "ans=[0 for i in range(51)]\n",
    "for i in range(51):\n",
    "    if i<2:\n",
    "        ans[i]=1\n",
    "    else:\n",
    "        ans[i]=ans[i-1]+ans[i-2]+1\n",
    "        ans[i]=ans[i]%1000000007\n",
    "n = int(input())\n",
    "\n",
    "print(ans[n])\n"
   ]
  },
  {
   "cell_type": "code",
   "execution_count": null,
   "metadata": {},
   "outputs": [],
   "source": []
  }
 ]
}