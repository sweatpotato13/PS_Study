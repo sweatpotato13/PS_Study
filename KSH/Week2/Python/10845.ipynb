{
 "cells": [
  {
   "cell_type": "code",
   "execution_count": null,
   "metadata": {},
   "outputs": [],
   "source": [
    "##https://www.acmicpc.net/problem/10845\n",
    "##https://www.acmicpc.net/problem/18258\n",
    "## 큐 구현\n",
    "\n",
    "cnt = int(input())\n",
    "lst=[]\n",
    "\n",
    "for i in range(cnt):\n",
    "    cmd=input().split()\n",
    "    if cmd[0]=='push':\n",
    "        lst.append(cmd[1])\n",
    "    elif cmd[0]=='pop':\n",
    "        try:\n",
    "            print(lst.pop(0))\n",
    "        except:\n",
    "            print(-1)\n",
    "    elif cmd[0]=='size':\n",
    "        print(len(lst))\n",
    "    elif cmd[0]=='empty':\n",
    "        if len(lst)==0:\n",
    "            print(1)\n",
    "        else:\n",
    "            print(0)\n",
    "    elif cmd[0]=='front':\n",
    "        if len(lst)==0:\n",
    "            print(-1)\n",
    "        else:\n",
    "            print(lst[0])\n",
    "    elif cmd[0]=='back':\n",
    "        if len(lst)==0:\n",
    "            print(-1)\n",
    "        else:\n",
    "            print(lst[-1])"
   ]
  }
 ],
 "metadata": {
  "language_info": {
   "codemirror_mode": {
    "name": "ipython",
    "version": 3
   },
   "file_extension": ".py",
   "mimetype": "text/x-python",
   "name": "python",
   "nbconvert_exporter": "python",
   "pygments_lexer": "ipython3",
   "version": 3
  },
  "orig_nbformat": 2
 },
 "nbformat": 4,
 "nbformat_minor": 2
}