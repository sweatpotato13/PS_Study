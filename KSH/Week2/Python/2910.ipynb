{
 "cells": [
  {
   "cell_type": "code",
   "execution_count": 48,
   "metadata": {
    "tags": []
   },
   "outputs": [
    {
     "output_type": "stream",
     "name": "stdout",
     "text": "Counter({'2': 2, '3': 2, '4': 2, '1': 2})\n"
    }
   ],
   "source": [
    "import collections\n",
    "\n",
    "nc = input().split()\n",
    "N = int(nc[0])\n",
    "C = int(nc[1])\n",
    "\n",
    "nums = input().split()\n",
    "\n",
    "#a=numpy.array(nums)\n",
    "col = collections.Counter(nums)\n",
    "\n",
    "print(col)"
   ]
  },
  {
   "cell_type": "code",
   "execution_count": 49,
   "metadata": {
    "tags": []
   },
   "outputs": [
    {
     "output_type": "stream",
     "name": "stdout",
     "text": "[('2', 2), ('3', 2), ('4', 2), ('1', 2)]\n"
    }
   ],
   "source": [
    "def f2(x):\n",
    "    return x[1]\n",
    "\n",
    "pre = sorted(col.items(),key=f2, reverse=True)\n",
    "print(pre)"
   ]
  },
  {
   "cell_type": "code",
   "execution_count": 50,
   "metadata": {
    "tags": []
   },
   "outputs": [
    {
     "output_type": "stream",
     "name": "stdout",
     "text": "2 2 3 3 4 4 1 1\n"
    }
   ],
   "source": [
    "ans=''\n",
    "for val in pre:\n",
    "    for i in range(val[1]):\n",
    "        ans=ans+val[0]+' '\n",
    "print(ans[:-1])"
   ]
  },
  {
   "cell_type": "code",
   "execution_count": null,
   "metadata": {},
   "outputs": [],
   "source": []
  }
 ],
 "metadata": {
  "language_info": {
   "codemirror_mode": {
    "name": "ipython",
    "version": 3
   },
   "file_extension": ".py",
   "mimetype": "text/x-python",
   "name": "python",
   "nbconvert_exporter": "python",
   "pygments_lexer": "ipython3",
   "version": "3.8.3-final"
  },
  "orig_nbformat": 2,
  "kernelspec": {
   "name": "python38364bittensorflowstudycondafb13885d0fbc4e2d8872713577b2788b",
   "display_name": "Python 3.8.3 64-bit ('tensorflowStudy': conda)"
  }
 },
 "nbformat": 4,
 "nbformat_minor": 2
}