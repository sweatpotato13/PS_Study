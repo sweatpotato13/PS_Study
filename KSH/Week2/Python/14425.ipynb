{
 "cells": [
  {
   "cell_type": "code",
   "execution_count": 1,
   "metadata": {},
   "outputs": [],
   "source": [
    "nm = input().split()\n",
    "N = int(nm[0])\n",
    "M = int(nm[1])\n",
    "\n"
   ]
  },
  {
   "cell_type": "code",
   "execution_count": 2,
   "metadata": {
    "tags": []
   },
   "outputs": [
    {
     "output_type": "stream",
     "name": "stdout",
     "text": "5 11\n"
    }
   ],
   "source": [
    "print(N, M)"
   ]
  },
  {
   "cell_type": "code",
   "execution_count": 15,
   "metadata": {},
   "outputs": [],
   "source": [
    "Aset=[]\n",
    "for i in range(N):\n",
    "    Aset.append(input())\n"
   ]
  },
  {
   "cell_type": "code",
   "execution_count": 14,
   "metadata": {
    "tags": []
   },
   "outputs": [
    {
     "output_type": "stream",
     "name": "stdout",
     "text": "['qw', 'we', 'er', 'rt', 'ty', ['qw', 'as', 'zx', 'we', 'sd', 'xc', 'ty', 'gh', 'bn', 'vb', 'nm'], ['qw', 'as', 'zx', 'we', 'sd', 'xc', 'ty', 'gh', 'bn', 'vb', 'nm'], 'qw', 'as', 'zx', 'we', 'sd', 'xc', 'ty', 'gh', 'bn', 'vb', 'nm']\n"
    }
   ],
   "source": [
    "print(Aset)"
   ]
  },
  {
   "cell_type": "code",
   "execution_count": 5,
   "metadata": {},
   "outputs": [],
   "source": [
    "Bset=[]\n",
    "for i in range(M):\n",
    "    Bset.append(input())\n"
   ]
  },
  {
   "cell_type": "code",
   "execution_count": 13,
   "metadata": {},
   "outputs": [
    {
     "output_type": "execute_result",
     "data": {
      "text/plain": "['qw', 'as', 'zx', 'we', 'sd', 'xc', 'ty', 'gh', 'bn', 'vb', 'nm']"
     },
     "metadata": {},
     "execution_count": 13
    }
   ],
   "source": [
    "Bset"
   ]
  },
  {
   "cell_type": "code",
   "execution_count": 16,
   "metadata": {
    "tags": []
   },
   "outputs": [
    {
     "output_type": "stream",
     "name": "stdout",
     "text": "['qw', 'we', 'er', 'rt', 'ty', 'qw', 'as', 'zx', 'we', 'sd', 'xc', 'ty', 'gh', 'bn', 'vb', 'nm']\n"
    }
   ],
   "source": [
    "Cset=Aset+Bset\n",
    "print(Cset)"
   ]
  },
  {
   "cell_type": "code",
   "execution_count": 17,
   "metadata": {
    "tags": []
   },
   "outputs": [
    {
     "output_type": "stream",
     "name": "stdout",
     "text": "3\n"
    }
   ],
   "source": [
    "Dset=list(set(Cset))\n",
    "\n",
    "print(len(Cset)-len(Dset))"
   ]
  },
  {
   "cell_type": "code",
   "execution_count": null,
   "metadata": {},
   "outputs": [],
   "source": []
  }
 ],
 "metadata": {
  "language_info": {
   "codemirror_mode": {
    "name": "ipython",
    "version": 3
   },
   "file_extension": ".py",
   "mimetype": "text/x-python",
   "name": "python",
   "nbconvert_exporter": "python",
   "pygments_lexer": "ipython3",
   "version": "3.8.3-final"
  },
  "orig_nbformat": 2,
  "kernelspec": {
   "name": "python38364bittensorflowstudycondafb13885d0fbc4e2d8872713577b2788b",
   "display_name": "Python 3.8.3 64-bit ('tensorflowStudy': conda)"
  }
 },
 "nbformat": 4,
 "nbformat_minor": 2
}