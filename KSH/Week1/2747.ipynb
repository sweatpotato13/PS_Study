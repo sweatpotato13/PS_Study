{
 "cells": [
  {
   "cell_type": "code",
   "execution_count": 15,
   "metadata": {
    "tags": []
   },
   "outputs": [
    {
     "output_type": "stream",
     "name": "stdout",
     "text": "[] 1 0\n['('] 2 0\n['(', '('] 4 0\n['('] 2.0 4\n['(', '['] 6.0 4\n['(', '[', '['] 18.0 4\n['(', '['] 6.0 22.0\n['('] 2.0 22.0\n[] 1.0 22.0\n['('] 2.0 22.0\n['(', '['] 6.0 22.0\n['('] 2.0 28.0\n28.0\n"
    }
   ],
   "source": [
    "str1= '(()[[]])([])'\n",
    "stk=[]\n",
    "\n",
    "tmp=1\n",
    "ans=0\n",
    "for idx,val in enumerate(str1):\n",
    "    #print(stk, tmp, ans)\n",
    "    if val=='(':\n",
    "        stk.append('(')\n",
    "        tmp=tmp*2\n",
    "    elif val=='[':\n",
    "        stk.append('[')\n",
    "        tmp=tmp*3\n",
    "    elif val==')':\n",
    "        if stk[-1]=='(':\n",
    "            stk.pop()\n",
    "            if str1[idx-1]=='(':\n",
    "                ans=ans+tmp            \n",
    "            tmp=tmp/2\n",
    "        else:\n",
    "            print(0)\n",
    "    elif val==']':\n",
    "        if stk[-1]=='[':\n",
    "            stk.pop()\n",
    "            if str1[idx-1]=='[':\n",
    "                ans=ans+tmp\n",
    "            tmp=tmp/3\n",
    "        else:\n",
    "            print(0)\n",
    "print(ans)\n",
    "        \n"
   ]
  },
  {
   "cell_type": "code",
   "execution_count": null,
   "metadata": {},
   "outputs": [],
   "source": []
  }
 ],
 "metadata": {
  "language_info": {
   "codemirror_mode": {
    "name": "ipython",
    "version": 3
   },
   "file_extension": ".py",
   "mimetype": "text/x-python",
   "name": "python",
   "nbconvert_exporter": "python",
   "pygments_lexer": "ipython3",
   "version": "3.8.3-final"
  },
  "orig_nbformat": 2,
  "kernelspec": {
   "name": "python38364bittensorflowstudycondafb13885d0fbc4e2d8872713577b2788b",
   "display_name": "Python 3.8.3 64-bit ('tensorflowStudy': conda)"
  }
 },
 "nbformat": 4,
 "nbformat_minor": 2
}