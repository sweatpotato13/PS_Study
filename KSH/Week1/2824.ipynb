{
 "cells": [
  {
   "cell_type": "code",
   "execution_count": 5,
   "metadata": {
    "tags": []
   },
   "outputs": [
    {
     "output_type": "stream",
     "name": "stdout",
     "text": "8982009\n"
    }
   ],
   "source": [
    "def getPrimeList(num):\n",
    "    primes = []\n",
    "    if num < 2:\n",
    "        return primes\n",
    "    for i in range(2, num+1):\n",
    "        isPrime = True\n",
    "        for j in primes:\n",
    "            if i % j == 0:\n",
    "                isPrime = False\n",
    "                break\n",
    "            elif j > i**0.5:\n",
    "                break\n",
    "        if isPrime:\n",
    "            primes.append(i)\n",
    "    return primes\n",
    "\n",
    "savePrime=getPrimeList(40000)\n",
    "\n",
    "def findprime(num,result):\n",
    "    for prime in savePrime:\n",
    "        while num%prime==0:\n",
    "            num=num/prime\n",
    "            if result.get(prime):\n",
    "              result[prime]=result[prime]+1\n",
    "            else:\n",
    "              result[prime]=1\n",
    "            \n",
    "        if num==1:\n",
    "            break\n",
    "    if num!=1:\n",
    "      if result.get(int(num)):\n",
    "        result[int(num)]=result[int(num)]+1\n",
    "      else:\n",
    "        result[int(num)]=1\n",
    "            \n",
    "\n",
    "            \n",
    "cnt1=int(input())\n",
    "num1=input().split()\n",
    "\n",
    "num1dic={}\n",
    "num2dic={}\n",
    "\n",
    "for val in range(0,cnt1):\n",
    "    num=int(num1[val])\n",
    "    findprime(num,num1dic)\n",
    "\n",
    "cnt2=int(input())  \n",
    "num2=input().split() \n",
    "for val in range(0,cnt2):\n",
    "    num=int(num2[val])\n",
    "    findprime(num,num2dic)\n",
    "\n",
    "ans=1\n",
    "for key in num1dic.keys():\n",
    "    if num2dic.get(key):\n",
    "        if num1dic[key]<num2dic[key]:\n",
    "            ans=ans*(key**num1dic[key])\n",
    "            \n",
    "        else: \n",
    "            ans=ans*(key**num2dic[key])\n",
    "            \n",
    "    else:\n",
    "        pass\n",
    "ans=str(ans)\n",
    "if len(ans)>9:\n",
    "    print(ans[-9:])\n",
    "else:\n",
    "    print(ans)"
   ]
  },
  {
   "cell_type": "code",
   "execution_count": null,
   "metadata": {},
   "outputs": [],
   "source": []
  }
 ],
 "metadata": {
  "language_info": {
   "codemirror_mode": {
    "name": "ipython",
    "version": 3
   },
   "file_extension": ".py",
   "mimetype": "text/x-python",
   "name": "python",
   "nbconvert_exporter": "python",
   "pygments_lexer": "ipython3",
   "version": "3.8.3-final"
  },
  "orig_nbformat": 2,
  "kernelspec": {
   "name": "python38364bittensorflowstudycondafb13885d0fbc4e2d8872713577b2788b",
   "display_name": "Python 3.8.3 64-bit ('tensorflowStudy': conda)"
  }
 },
 "nbformat": 4,
 "nbformat_minor": 2
}