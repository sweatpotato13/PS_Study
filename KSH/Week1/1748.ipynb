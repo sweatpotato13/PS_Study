{
 "cells": [
  {
   "cell_type": "code",
   "execution_count": 1,
   "metadata": {
    "tags": []
   },
   "outputs": [
    {
     "output_type": "stream",
     "name": "stdout",
     "text": "252\n"
    }
   ],
   "source": [
    "##1748\n",
    "\n",
    "n = '120'\n",
    "nlen = len(n) - 1\n",
    "c = 0\n",
    "i = 0\n",
    "while i < nlen:\n",
    "    c += 9 * (10 ** i) * (i + 1)\n",
    "    i += 1\n",
    "c += ((int(n) - (10 ** nlen)) + 1) * (nlen + 1)\n",
    "print(c)"
   ]
  },
  {
   "cell_type": "code",
   "execution_count": null,
   "metadata": {},
   "outputs": [],
   "source": []
  }
 ],
 "metadata": {
  "language_info": {
   "codemirror_mode": {
    "name": "ipython",
    "version": 3
   },
   "file_extension": ".py",
   "mimetype": "text/x-python",
   "name": "python",
   "nbconvert_exporter": "python",
   "pygments_lexer": "ipython3",
   "version": "3.7.6-final"
  },
  "orig_nbformat": 2,
  "kernelspec": {
   "name": "python3",
   "display_name": "Python 3"
  }
 },
 "nbformat": 4,
 "nbformat_minor": 2
}