{
 "cells": [
  {
   "cell_type": "code",
   "execution_count": null,
   "metadata": {},
   "outputs": [],
   "source": [
    "import re\n",
    "\n",
    "str1 = '()[[]]'\n",
    "p1 = re.compile(r'\\(\\d+\\)')\n",
    "p2 = re.compile(r'\\[\\d+\\]')\n",
    "num=re.compile(r'\\d+')\n",
    "f1 = re.compile(r'\\(')\n",
    "f2 = re.compile(r'\\[')\n",
    "#while []:\n",
    "while len(f1.findall(str1))>0 or len(f2.findall(str1))>0:\n",
    "  str1=str1.replace('[]','3').replace('()','2')\n",
    "  isnum=num.findall(str1)\n",
    "  if len(isnum)>0:\n",
    "    a = p1.findall(str1)\n",
    "    b= p2.findall(str1)\n",
    "    if len(a)>0:\n",
    "      str1=str1.replace(a[0],str(int(num.findall(a[0])[0])*2))\n",
    "    elif len(b)>0:\n",
    "      str1=str1.replace(b[0],str(int(num.findall(b[0])[0])*3))\n",
    "\n",
    "str1\n"
   ]
  }
 ],
 "metadata": {
  "language_info": {
   "codemirror_mode": {
    "name": "ipython",
    "version": 3
   },
   "file_extension": ".py",
   "mimetype": "text/x-python",
   "name": "python",
   "nbconvert_exporter": "python",
   "pygments_lexer": "ipython3",
   "version": 3
  },
  "orig_nbformat": 2
 },
 "nbformat": 4,
 "nbformat_minor": 2
}