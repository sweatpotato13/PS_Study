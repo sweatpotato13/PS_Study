{
 "cells": [
  {
   "cell_type": "code",
   "execution_count": null,
   "metadata": {},
   "outputs": [],
   "source": [
    "n=int(input())\n",
    "code = []\n",
    "for i in range(n):\n",
    "  cnt=n\n",
    "  comm=input()\n",
    "  for c in comm:\n",
    "    if c.isdigit():\n",
    "      cnt+=int(c)\n",
    "  code.append((comm,cnt))\n",
    "code.sort(key=lambda x :(len(x[0]),x[1],x[0]))\n",
    "\n",
    "for g in code:\n",
    "  print(g[0])"
   ]
  }
 ],
 "metadata": {
  "language_info": {
   "codemirror_mode": {
    "name": "ipython",
    "version": 3
   },
   "file_extension": ".py",
   "mimetype": "text/x-python",
   "name": "python",
   "nbconvert_exporter": "python",
   "pygments_lexer": "ipython3",
   "version": 3
  },
  "orig_nbformat": 2
 },
 "nbformat": 4,
 "nbformat_minor": 2
}