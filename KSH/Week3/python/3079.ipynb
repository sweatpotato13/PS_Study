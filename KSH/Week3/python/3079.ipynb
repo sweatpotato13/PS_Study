{
 "cells": [
  {
   "cell_type": "code",
   "execution_count": null,
   "metadata": {},
   "outputs": [],
   "source": [
    "import sys\n",
    "input = sys.stdin.readline\n",
    " \n",
    "N, M = map(int, input().split())\n",
    "time = [int(input()) for _ in range(N)]\n",
    "result = 0\n",
    "left = 0\n",
    "right = M * max(time)\n",
    " \n",
    "while left <= right:\n",
    "    mid = (left + right) // 2\n",
    " \n",
    "    judgedPeople = 0\n",
    "    for t in time:\n",
    "        judgedPeople += mid // t\n",
    "    \n",
    "    if judgedPeople < M:\n",
    "        left = mid + 1\n",
    "    else:\n",
    "        result = mid\n",
    "        right = mid - 1\n",
    " \n",
    "print(result)"
   ]
  }
 ],
 "metadata": {
  "language_info": {
   "codemirror_mode": {
    "name": "ipython",
    "version": 3
   },
   "file_extension": ".py",
   "mimetype": "text/x-python",
   "name": "python",
   "nbconvert_exporter": "python",
   "pygments_lexer": "ipython3",
   "version": 3
  },
  "orig_nbformat": 2
 },
 "nbformat": 4,
 "nbformat_minor": 2
}