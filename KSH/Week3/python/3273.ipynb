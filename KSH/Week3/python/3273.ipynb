{
 "cells": [
  {
   "cell_type": "code",
   "execution_count": null,
   "metadata": {},
   "outputs": [],
   "source": [
    "n = int(input())\n",
    "arr = sorted(map(int, input().split()))\n",
    "x = int(input())\n",
    " \n",
    "cnt = 0\n",
    " \n",
    "i = 0\n",
    "j = n-1\n",
    " \n",
    "while i != j :\n",
    "    s = arr[i] + arr[j]\n",
    "    if s == x :\n",
    "        cnt += 1\n",
    "        i += 1\n",
    "    elif s > x :\n",
    "        j -= 1\n",
    "    else :\n",
    "        i += 1\n",
    " \n",
    "print(cnt)"
   ]
  }
 ],
 "metadata": {
  "language_info": {
   "codemirror_mode": {
    "name": "ipython",
    "version": 3
   },
   "file_extension": ".py",
   "mimetype": "text/x-python",
   "name": "python",
   "nbconvert_exporter": "python",
   "pygments_lexer": "ipython3",
   "version": 3
  },
  "orig_nbformat": 2
 },
 "nbformat": 4,
 "nbformat_minor": 2
}