{
 "cells": [
  {
   "cell_type": "code",
   "execution_count": null,
   "metadata": {},
   "outputs": [],
   "source": [
    "inputarray = input().split()\n",
    "cnt = int(inputarray[0])\n",
    "#arr = list(map(int, inputarray[1:]))\n",
    "arr = inputarray[1:]\n",
    "while cnt>len(arr):\n",
    "  inputarray = input().split()\n",
    "  arr.extend(inputarray)\n",
    "for i in range(len(arr)):\n",
    "  tmp = arr[i][::-1]\n",
    "  arr2.append(int(tmp))\n",
    "arr2.sort()\n",
    "for i in range(len(arr2)):\n",
    "  print(arr2[i])"
   ]
  },
  {
   "cell_type": "code",
   "execution_count": null,
   "metadata": {},
   "outputs": [],
   "source": []
  }
 ],
 "metadata": {
  "language_info": {
   "codemirror_mode": {
    "name": "ipython",
    "version": 3
   },
   "file_extension": ".py",
   "mimetype": "text/x-python",
   "name": "python",
   "nbconvert_exporter": "python",
   "pygments_lexer": "ipython3",
   "version": "3.8.3-final"
  },
  "orig_nbformat": 2,
  "kernelspec": {
   "name": "python38364bittensorflowstudycondafb13885d0fbc4e2d8872713577b2788b",
   "display_name": "Python 3.8.3 64-bit ('tensorflowStudy': conda)"
  }
 },
 "nbformat": 4,
 "nbformat_minor": 2
}